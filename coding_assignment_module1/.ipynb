{
 "cells": [
  {
   "cell_type": "code",
   "execution_count": 3,
   "metadata": {},
   "outputs": [
    {
     "name": "stdout",
     "output_type": "stream",
     "text": [
      "enter sorted array2 3 4 5 \n",
      "enter a number to search2\n",
      "found at\n",
      "1\n"
     ]
    }
   ],
   "source": [
    "a=(input(\"enter sorted array\")).split()\n",
    "b=int(input(\"enter a number to search\"))\n",
    "beg=0\n",
    "end =len(a)-1\n",
    "found=False\n",
    "while(beg<=end and found==False):\n",
    "       mid=int((beg+end)//2)\n",
    "       if int(a[mid])==b:\n",
    "          found =True\n",
    "          print(\"found at\")\n",
    "          print(mid+1)\n",
    "       else:\n",
    "          if(b<int(a[mid])):\n",
    "                end=mid-1\n",
    "          else:\n",
    "                beg=mid+1\n",
    "if(found==False):\n",
    "    print(\"not found\")"
   ]
  },
  {
   "cell_type": "code",
   "execution_count": null,
   "metadata": {},
   "outputs": [],
   "source": []
  }
 ],
 "metadata": {
  "kernelspec": {
   "display_name": "Python 3",
   "language": "python",
   "name": "python3"
  },
  "language_info": {
   "codemirror_mode": {
    "name": "ipython",
    "version": 3
   },
   "file_extension": ".py",
   "mimetype": "text/x-python",
   "name": "python",
   "nbconvert_exporter": "python",
   "pygments_lexer": "ipython3",
   "version": "3.7.3"
  }
 },
 "nbformat": 4,
 "nbformat_minor": 2
}
