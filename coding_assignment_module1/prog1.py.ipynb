{
 "cells": [
  {
   "cell_type": "code",
   "execution_count": 2,
   "metadata": {},
   "outputs": [
    {
     "name": "stdout",
     "output_type": "stream",
     "text": [
      "enter the numbers\n",
      "enter a number1\n",
      "enter a number2\n",
      "enter a number3\n",
      "enter a number4\n",
      "enter a number5\n",
      "[1, 2, 3, 4, 5]\n"
     ]
    }
   ],
   "source": [
    "print(\"enter the numbers\")\n",
    "a=[]\n",
    "for i in range(5):\n",
    "    b=int(input(\"enter a number\"))\n",
    "    a.append(b)\n",
    "print(a)    \n",
    "  "
   ]
  },
  {
   "cell_type": "code",
   "execution_count": 8,
   "metadata": {},
   "outputs": [
    {
     "name": "stdout",
     "output_type": "stream",
     "text": [
      "enter the numbers\n",
      "enter a number1\n",
      "('1',)\n"
     ]
    }
   ],
   "source": [
    "print(\"enter the numbers\")\n",
    "c=(input(\"enter a number\"))\n",
    "e=tuple(c)\n",
    "print(e)\n",
    "        "
   ]
  },
  {
   "cell_type": "code",
   "execution_count": null,
   "metadata": {},
   "outputs": [],
   "source": []
  },
  {
   "cell_type": "code",
   "execution_count": null,
   "metadata": {},
   "outputs": [],
   "source": []
  }
 ],
 "metadata": {
  "kernelspec": {
   "display_name": "Python 3",
   "language": "python",
   "name": "python3"
  },
  "language_info": {
   "codemirror_mode": {
    "name": "ipython",
    "version": 3
   },
   "file_extension": ".py",
   "mimetype": "text/x-python",
   "name": "python",
   "nbconvert_exporter": "python",
   "pygments_lexer": "ipython3",
   "version": "3.7.3"
  }
 },
 "nbformat": 4,
 "nbformat_minor": 2
}
